{
 "cells": [
  {
   "cell_type": "code",
   "execution_count": 1,
   "id": "bae8e7ca-44a2-412d-9234-8865e625edf1",
   "metadata": {
    "colab": {
     "base_uri": "https://localhost:8080/"
    },
    "executionInfo": {
     "elapsed": 568,
     "status": "ok",
     "timestamp": 1704819571161,
     "user": {
      "displayName": "MOHAMED EL HADDIOUI",
      "userId": "09899449834534163499"
     },
     "user_tz": -60
    },
    "id": "bae8e7ca-44a2-412d-9234-8865e625edf1",
    "outputId": "8e7bf7b7-3b79-4ee7-cd48-0f2dff2e0abc"
   },
   "outputs": [
    {
     "name": "stdout",
     "output_type": "stream",
     "text": [
      "                  date   Consomation eletric\n",
      "0   2019-01-01 00:00:00                63028\n",
      "1   2019-08-01 00:00:00                72241\n",
      "2            01/15/2019                71740\n",
      "3            01/22/2019                77543\n",
      "4            01/29/2019                76566\n",
      "..                  ...                  ...\n",
      "95           10/23/2020                50929\n",
      "96           10/30/2020                51925\n",
      "97  2020-07-11 00:00:00                48610\n",
      "98           11/14/2020                50459\n",
      "99           11/21/2020                59020\n",
      "\n",
      "[100 rows x 2 columns]\n"
     ]
    }
   ],
   "source": [
    "import pandas as pd\n",
    "import numpy as np\n",
    "import pandas as pd\n",
    "\n",
    "# Lire le fichier Excel à partir du chemin spécifié\n",
    "df = pd.read_csv('./Data/electricity-consumption-in-france-2019-2022.csv')\n",
    "\n",
    "# Afficher les premières lignes du DataFrame pour comprendre les données\n",
    "print(df.head(100))"
   ]
  },
  {
   "cell_type": "code",
   "execution_count": 2,
   "id": "c90cbd5a-4f6b-4420-ad9f-ac1c1a9cfda4",
   "metadata": {
    "colab": {
     "base_uri": "https://localhost:8080/"
    },
    "executionInfo": {
     "elapsed": 243,
     "status": "ok",
     "timestamp": 1704819575325,
     "user": {
      "displayName": "MOHAMED EL HADDIOUI",
      "userId": "09899449834534163499"
     },
     "user_tz": -60
    },
    "id": "c90cbd5a-4f6b-4420-ad9f-ac1c1a9cfda4",
    "outputId": "037f5de3-51fb-4540-dde4-30ec8e31ab7c"
   },
   "outputs": [
    {
     "name": "stdout",
     "output_type": "stream",
     "text": [
      "Index(['date ', 'Consomation eletric'], dtype='object')\n"
     ]
    }
   ],
   "source": [
    "import pandas as pd\n",
    "\n",
    "# Display the column names in your DataFrame\n",
    "print(df.columns)\n"
   ]
  },
  {
   "cell_type": "code",
   "execution_count": 3,
   "id": "28a77073-01d4-4b88-a88f-0536d24f88c9",
   "metadata": {
    "colab": {
     "base_uri": "https://localhost:8080/",
     "height": 423
    },
    "executionInfo": {
     "elapsed": 309,
     "status": "ok",
     "timestamp": 1704819578150,
     "user": {
      "displayName": "MOHAMED EL HADDIOUI",
      "userId": "09899449834534163499"
     },
     "user_tz": -60
    },
    "id": "28a77073-01d4-4b88-a88f-0536d24f88c9",
    "outputId": "3c5a9ce4-be4f-4128-a6f9-03e3f595a62a"
   },
   "outputs": [
    {
     "data": {
      "text/html": [
       "<div>\n",
       "<style scoped>\n",
       "    .dataframe tbody tr th:only-of-type {\n",
       "        vertical-align: middle;\n",
       "    }\n",
       "\n",
       "    .dataframe tbody tr th {\n",
       "        vertical-align: top;\n",
       "    }\n",
       "\n",
       "    .dataframe thead th {\n",
       "        text-align: right;\n",
       "    }\n",
       "</style>\n",
       "<table border=\"1\" class=\"dataframe\">\n",
       "  <thead>\n",
       "    <tr style=\"text-align: right;\">\n",
       "      <th></th>\n",
       "      <th>date</th>\n",
       "      <th>Consomation eletric</th>\n",
       "    </tr>\n",
       "  </thead>\n",
       "  <tbody>\n",
       "    <tr>\n",
       "      <th>0</th>\n",
       "      <td>2019-01-01</td>\n",
       "      <td>63028</td>\n",
       "    </tr>\n",
       "    <tr>\n",
       "      <th>1</th>\n",
       "      <td>2019-08-01</td>\n",
       "      <td>72241</td>\n",
       "    </tr>\n",
       "    <tr>\n",
       "      <th>2</th>\n",
       "      <td>NaT</td>\n",
       "      <td>71740</td>\n",
       "    </tr>\n",
       "    <tr>\n",
       "      <th>3</th>\n",
       "      <td>NaT</td>\n",
       "      <td>77543</td>\n",
       "    </tr>\n",
       "    <tr>\n",
       "      <th>4</th>\n",
       "      <td>NaT</td>\n",
       "      <td>76566</td>\n",
       "    </tr>\n",
       "    <tr>\n",
       "      <th>...</th>\n",
       "      <td>...</td>\n",
       "      <td>...</td>\n",
       "    </tr>\n",
       "    <tr>\n",
       "      <th>159</th>\n",
       "      <td>2022-01-01</td>\n",
       "      <td>49311</td>\n",
       "    </tr>\n",
       "    <tr>\n",
       "      <th>160</th>\n",
       "      <td>2022-08-01</td>\n",
       "      <td>66705</td>\n",
       "    </tr>\n",
       "    <tr>\n",
       "      <th>161</th>\n",
       "      <td>NaT</td>\n",
       "      <td>77148</td>\n",
       "    </tr>\n",
       "    <tr>\n",
       "      <th>162</th>\n",
       "      <td>NaT</td>\n",
       "      <td>74219</td>\n",
       "    </tr>\n",
       "    <tr>\n",
       "      <th>163</th>\n",
       "      <td>NaT</td>\n",
       "      <td>69899</td>\n",
       "    </tr>\n",
       "  </tbody>\n",
       "</table>\n",
       "<p>164 rows × 2 columns</p>\n",
       "</div>"
      ],
      "text/plain": [
       "          date  Consomation eletric\n",
       "0   2019-01-01                63028\n",
       "1   2019-08-01                72241\n",
       "2          NaT                71740\n",
       "3          NaT                77543\n",
       "4          NaT                76566\n",
       "..         ...                  ...\n",
       "159 2022-01-01                49311\n",
       "160 2022-08-01                66705\n",
       "161        NaT                77148\n",
       "162        NaT                74219\n",
       "163        NaT                69899\n",
       "\n",
       "[164 rows x 2 columns]"
      ]
     },
     "execution_count": 3,
     "metadata": {},
     "output_type": "execute_result"
    }
   ],
   "source": [
    "import pandas as pd\n",
    "\n",
    "# Remove extra space from the column name\n",
    "df.columns = df.columns.str.strip()\n",
    "\n",
    "# Convert the \"date\" column to datetime format\n",
    "df['date'] = pd.to_datetime(df['date'], errors='coerce')\n",
    "df"
   ]
  },
  {
   "cell_type": "code",
   "execution_count": 4,
   "id": "cd3b5e54-ba38-4c5a-b11c-a0a01888f575",
   "metadata": {
    "executionInfo": {
     "elapsed": 300,
     "status": "ok",
     "timestamp": 1704819582354,
     "user": {
      "displayName": "MOHAMED EL HADDIOUI",
      "userId": "09899449834534163499"
     },
     "user_tz": -60
    },
    "id": "cd3b5e54-ba38-4c5a-b11c-a0a01888f575"
   },
   "outputs": [],
   "source": [
    "# Data Preparation\n",
    "# Ensure your time series data is sorted by time.\n",
    "df = df.sort_values(by='date')\n"
   ]
  },
  {
   "cell_type": "code",
   "execution_count": 5,
   "id": "199b38fd-8478-4120-b887-2b5607651afa",
   "metadata": {
    "executionInfo": {
     "elapsed": 264,
     "status": "ok",
     "timestamp": 1704819584407,
     "user": {
      "displayName": "MOHAMED EL HADDIOUI",
      "userId": "09899449834534163499"
     },
     "user_tz": -60
    },
    "id": "199b38fd-8478-4120-b887-2b5607651afa"
   },
   "outputs": [],
   "source": [
    "# Check for any missing values and handle them appropriately.\n",
    "df = df.dropna()"
   ]
  },
  {
   "cell_type": "code",
   "execution_count": 6,
   "id": "38047828-7a0e-44c3-b3c4-39302abcf606",
   "metadata": {
    "colab": {
     "base_uri": "https://localhost:8080/",
     "height": 423
    },
    "executionInfo": {
     "elapsed": 325,
     "status": "ok",
     "timestamp": 1704819585799,
     "user": {
      "displayName": "MOHAMED EL HADDIOUI",
      "userId": "09899449834534163499"
     },
     "user_tz": -60
    },
    "id": "38047828-7a0e-44c3-b3c4-39302abcf606",
    "outputId": "8365e733-20a5-4c65-c214-e2bcd94cb8c4"
   },
   "outputs": [
    {
     "data": {
      "text/html": [
       "<div>\n",
       "<style scoped>\n",
       "    .dataframe tbody tr th:only-of-type {\n",
       "        vertical-align: middle;\n",
       "    }\n",
       "\n",
       "    .dataframe tbody tr th {\n",
       "        vertical-align: top;\n",
       "    }\n",
       "\n",
       "    .dataframe thead th {\n",
       "        text-align: right;\n",
       "    }\n",
       "</style>\n",
       "<table border=\"1\" class=\"dataframe\">\n",
       "  <thead>\n",
       "    <tr style=\"text-align: right;\">\n",
       "      <th></th>\n",
       "      <th>date</th>\n",
       "      <th>Consomation eletric</th>\n",
       "    </tr>\n",
       "  </thead>\n",
       "  <tbody>\n",
       "    <tr>\n",
       "      <th>0</th>\n",
       "      <td>2019-01-01</td>\n",
       "      <td>63028</td>\n",
       "    </tr>\n",
       "    <tr>\n",
       "      <th>13</th>\n",
       "      <td>2019-01-04</td>\n",
       "      <td>53622</td>\n",
       "    </tr>\n",
       "    <tr>\n",
       "      <th>39</th>\n",
       "      <td>2019-02-10</td>\n",
       "      <td>49257</td>\n",
       "    </tr>\n",
       "    <tr>\n",
       "      <th>26</th>\n",
       "      <td>2019-03-07</td>\n",
       "      <td>50882</td>\n",
       "    </tr>\n",
       "    <tr>\n",
       "      <th>9</th>\n",
       "      <td>2019-04-03</td>\n",
       "      <td>63634</td>\n",
       "    </tr>\n",
       "    <tr>\n",
       "      <th>...</th>\n",
       "      <td>...</td>\n",
       "      <td>...</td>\n",
       "    </tr>\n",
       "    <tr>\n",
       "      <th>155</th>\n",
       "      <td>2021-11-12</td>\n",
       "      <td>70164</td>\n",
       "    </tr>\n",
       "    <tr>\n",
       "      <th>112</th>\n",
       "      <td>2021-12-02</td>\n",
       "      <td>85580</td>\n",
       "    </tr>\n",
       "    <tr>\n",
       "      <th>129</th>\n",
       "      <td>2021-12-06</td>\n",
       "      <td>44193</td>\n",
       "    </tr>\n",
       "    <tr>\n",
       "      <th>159</th>\n",
       "      <td>2022-01-01</td>\n",
       "      <td>49311</td>\n",
       "    </tr>\n",
       "    <tr>\n",
       "      <th>160</th>\n",
       "      <td>2022-08-01</td>\n",
       "      <td>66705</td>\n",
       "    </tr>\n",
       "  </tbody>\n",
       "</table>\n",
       "<p>65 rows × 2 columns</p>\n",
       "</div>"
      ],
      "text/plain": [
       "          date  Consomation eletric\n",
       "0   2019-01-01                63028\n",
       "13  2019-01-04                53622\n",
       "39  2019-02-10                49257\n",
       "26  2019-03-07                50882\n",
       "9   2019-04-03                63634\n",
       "..         ...                  ...\n",
       "155 2021-11-12                70164\n",
       "112 2021-12-02                85580\n",
       "129 2021-12-06                44193\n",
       "159 2022-01-01                49311\n",
       "160 2022-08-01                66705\n",
       "\n",
       "[65 rows x 2 columns]"
      ]
     },
     "execution_count": 6,
     "metadata": {},
     "output_type": "execute_result"
    }
   ],
   "source": [
    "df"
   ]
  },
  {
   "cell_type": "code",
   "execution_count": 7,
   "id": "1cad44f7-9c5b-43f7-bc0c-59673dd46957",
   "metadata": {
    "colab": {
     "base_uri": "https://localhost:8080/",
     "height": 564
    },
    "executionInfo": {
     "elapsed": 1033,
     "status": "ok",
     "timestamp": 1704819588920,
     "user": {
      "displayName": "MOHAMED EL HADDIOUI",
      "userId": "09899449834534163499"
     },
     "user_tz": -60
    },
    "id": "1cad44f7-9c5b-43f7-bc0c-59673dd46957",
    "outputId": "4b9aa947-179e-4149-f385-83df4fb35c92"
   },
   "outputs": [
    {
     "data": {
      "image/png": "[encoded data removed]",
      "text/plain": [
       "<Figure size 1200x600 with 1 Axes>"
      ]
     },
     "metadata": {},
     "output_type": "display_data"
    }
   ],
   "source": [
    "import matplotlib.pyplot as plt\n",
    "import matplotlib.dates as mdates\n",
    "# Créer le graphique\n",
    "plt.figure(figsize=(12, 6))\n",
    "\n",
    "# Ajouter les courbes au graphique\n",
    "plt.plot(df['date'], df['Consomation eletric'], label='Consomation eletric')\n",
    "# Personnaliser le graphique\n",
    "plt.title('Consomation eletric')\n",
    "plt.xlabel('Date')\n",
    "plt.ylabel('Consomation eletric')\n",
    "plt.legend()\n",
    "plt.grid(True)\n",
    "plt.show()"
   ]
  },
  {
   "cell_type": "code",
   "execution_count": 17,
   "id": "a6606c23-faef-49a7-8f53-af68d8a3ca53",
   "metadata": {
    "id": "a6606c23-faef-49a7-8f53-af68d8a3ca53"
   },
   "outputs": [],
   "source": [
    "import numpy as np\n",
    "import matplotlib.pyplot as plt\n",
    "\n",
    "# Assuming 'Consomation eletric' is the target variable\n",
    "data = df['Consomation eletric'].values\n",
    "\n",
    "# Normalize the data to bring it to a similar range\n",
    "data_normalized = (data - np.min(data)) / (np.max(data) - np.min(data))\n",
    "\n",
    "# Define the sequence length (number of time steps to look back)\n",
    "sequence_length = 5\n",
    "\n",
    "# Create sequences of data with corresponding labels\n",
    "X, y = [], []\n",
    "for i in range(len(data_normalized) - sequence_length):\n",
    "    X.append(data_normalized[i:i+sequence_length])\n",
    "    y.append(data_normalized[i+sequence_length])\n",
    "\n",
    "X = np.array(X)\n",
    "y = np.array(y)\n",
    "\n"
   ]
  },
  {
   "cell_type": "code",
   "execution_count": 38,
   "id": "6198314a-f16e-4745-8990-c394f6e1ecf7",
   "metadata": {},
   "outputs": [
    {
     "ename": "ValueError",
     "evalue": "shapes (1,5) and (1,100) not aligned: 5 (dim 1) != 1 (dim 0)",
     "output_type": "error",
     "traceback": [
      "\u001b[1;31m---------------------------------------------------------------------------\u001b[0m",
      "\u001b[1;31mValueError\u001b[0m                                Traceback (most recent call last)",
      "Cell \u001b[1;32mIn[38], line 24\u001b[0m\n\u001b[0;32m     21\u001b[0m \u001b[38;5;28;01mfor\u001b[39;00m i \u001b[38;5;129;01min\u001b[39;00m \u001b[38;5;28mrange\u001b[39m(\u001b[38;5;28mlen\u001b[39m(X)):\n\u001b[0;32m     22\u001b[0m     \u001b[38;5;66;03m# Forward pass\u001b[39;00m\n\u001b[0;32m     23\u001b[0m     x_i \u001b[38;5;241m=\u001b[39m X[i]\u001b[38;5;241m.\u001b[39mreshape(\u001b[38;5;241m1\u001b[39m, \u001b[38;5;241m-\u001b[39m\u001b[38;5;241m1\u001b[39m)\n\u001b[1;32m---> 24\u001b[0m     h_next \u001b[38;5;241m=\u001b[39m np\u001b[38;5;241m.\u001b[39mtanh(\u001b[43mnp\u001b[49m\u001b[38;5;241;43m.\u001b[39;49m\u001b[43mdot\u001b[49m\u001b[43m(\u001b[49m\u001b[43mx_i\u001b[49m\u001b[43m,\u001b[49m\u001b[43m \u001b[49m\u001b[43mWxh\u001b[49m\u001b[43m)\u001b[49m \u001b[38;5;241m+\u001b[39m np\u001b[38;5;241m.\u001b[39mdot(h_prev, Whh) \u001b[38;5;241m+\u001b[39m bh)\n\u001b[0;32m     25\u001b[0m     y_pred \u001b[38;5;241m=\u001b[39m np\u001b[38;5;241m.\u001b[39mdot(h_next, Why) \u001b[38;5;241m+\u001b[39m by\n\u001b[0;32m     27\u001b[0m     \u001b[38;5;66;03m# Backward pass\u001b[39;00m\n",
      "\u001b[1;31mValueError\u001b[0m: shapes (1,5) and (1,100) not aligned: 5 (dim 1) != 1 (dim 0)"
     ]
    }
   ],
   "source": [
    "# Reshape X to match the input shape of RNN (batch_size, time_steps, features)\n",
    "X = np.reshape(X, (X.shape[0], sequence_length, 1))\n",
    "\n",
    "# Model\n",
    "input_size = 1\n",
    "hidden_size = 100\n",
    "output_size = 1\n",
    "learning_rate = 0.001\n",
    "\n",
    "# Initialize weights and biases\n",
    "Wxh = np.random.randn(input_size, hidden_size) * 0.01\n",
    "Whh = np.random.randn(hidden_size, hidden_size) * 0.01\n",
    "Why = np.random.randn(hidden_size, output_size) * 0.01\n",
    "bh = np.zeros((1, hidden_size))\n",
    "by = np.zeros((1, output_size))\n",
    "\n",
    "# Training\n",
    "epochs = 100\n",
    "for epoch in range(epochs):\n",
    "    h_prev = np.zeros((1, hidden_size))\n",
    "    for i in range(len(X)):\n",
    "        # Forward pass\n",
    "        x_i = X[i].reshape(1, -1)\n",
    "        h_next = np.tanh(np.dot(x_i, Wxh) + np.dot(h_prev, Whh) + bh)\n",
    "        y_pred = np.dot(h_next, Why) + by\n",
    "\n",
    "        # Backward pass\n",
    "        loss = 0.5 * np.sum((y_pred - y[i])**2)\n",
    "        dy = y_pred - y[i]\n",
    "        dWhy = np.dot(h_next.T, dy)\n",
    "        dh = np.dot(dy, Why.T) * (1 - h_next**2)\n",
    "        dWxh = np.dot(x_i.T, dh)\n",
    "        dWhh = np.dot(h_prev.T, dh)\n",
    "        dbh = np.sum(dh, axis=0, keepdims=True)\n",
    "\n",
    "        # Update weights and biases\n",
    "        Wxh -= learning_rate * dWxh\n",
    "        Whh -= learning_rate * dWhh\n",
    "        Why -= learning_rate * dWhy\n",
    "        bh -= learning_rate * dbh\n",
    "\n",
    "        h_prev = h_next\n",
    "\n",
    "# Prediction for the entire training dataset\n",
    "y_pred = []\n",
    "h_prev = np.zeros((1, hidden_size))\n",
    "for i in range(len(X)):\n",
    "    x_i = X[i].reshape(1, -1)\n",
    "    h_next = np.tanh(np.dot(x_i, Wxh) + np.dot(h_prev, Whh) + bh)\n",
    "    y_i = np.dot(h_next, Why) + by\n",
    "    y_pred.append(y_i[0, 0])\n",
    "    h_prev = h_next\n",
    "\n",
    "# Denormalize the predicted values\n",
    "y_pred = y_pred * (np.max(data) - np.min(data)) + np.min(data)\n",
    "\n",
    "# Plotting\n",
    "plt.plot(data, label='Original Data')\n",
    "plt.plot(np.arange(sequence_length, len(data)), y_pred, label='Predicted Values', marker='o')\n",
    "plt.xlabel('Time Steps')\n",
    "plt.ylabel('Consomation eletric')\n",
    "plt.legend()\n",
    "plt.show()\n",
    "\n",
    "# Calculate accuracy for the entire training dataset\n",
    "accuracy = 1 - np.mean(np.abs((data[sequence_length:] - y_pred) / data[sequence_length:]))\n",
    "print(f'Accuracy: {accuracy * 100:.2f}%')"
   ]
  },
  {
   "cell_type": "code",
   "execution_count": null,
   "id": "faa8df8c-2899-4890-b4d5-9586cc06059d",
   "metadata": {},
   "outputs": [],
   "source": []
  }
 ],
 "metadata": {
  "colab": {
   "provenance": []
  },
  "kernelspec": {
   "display_name": "Python 3 (ipykernel)",
   "language": "python",
   "name": "python3"
  },
  "language_info": {
   "codemirror_mode": {
    "name": "ipython",
    "version": 3
   },
   "file_extension": ".py",
   "mimetype": "text/x-python",
   "name": "python",
   "nbconvert_exporter": "python",
   "pygments_lexer": "ipython3",
   "version": "3.12.0"
  }
 },
 "nbformat": 4,
 "nbformat_minor": 5
}
